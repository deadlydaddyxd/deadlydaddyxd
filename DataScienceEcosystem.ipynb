{
 "cells": [
  {
   "cell_type": "markdown",
   "id": "b438ec6c-4f31-49ad-ad3c-671716ad3dbb",
   "metadata": {},
   "source": [
    "# Data Science Tools and Ecosystem"
   ]
  },
  {
   "cell_type": "markdown",
   "id": "060040bc-1149-4437-9574-8053dcbd9b31",
   "metadata": {},
   "source": [
    "In this notebook, Data Science Tools and Ecosystem are summarized."
   ]
  },
  {
   "cell_type": "markdown",
   "id": "e480c21b-3872-4fd6-b5d8-be91d9f666e3",
   "metadata": {},
   "source": [
    "**Objectives:**\n",
    "* Popular languages for data science\n",
    "* Commonly used libraries for data science\n",
    "* Data Science Tools (IDEs)\n",
    "* Examples of arithmetic expressions\n",
    "* Introduction to jupyter lab functions\n",
    "* Comprehensive utilization of jupyter lab markdown formatting"
   ]
  },
  {
   "cell_type": "markdown",
   "id": "52232688-3e4b-4daa-baea-e77e85dea499",
   "metadata": {},
   "source": [
    "Some of the popular languages that Data Scientists use are:\n",
    "1. R\n",
    "2. Python\n",
    "3. Julia\n",
    "4. Swift\n",
    "5. Scala\n",
    "6. Java\n",
    "7. JavaScript"
   ]
  },
  {
   "cell_type": "markdown",
   "id": "f3751a4b-4367-4434-bce4-54056d2bc2cf",
   "metadata": {},
   "source": [
    "Some of the commonly used libraries by Data Scientists include:\n",
    "1. pandas\n",
    "2. seaborn\n",
    "3. matplotlib\n",
    "4. keras\n",
    "5. apache\n",
    "6. pytorch\n",
    "7. scipy\n",
    "8. numpy\n",
    "9. sci-kit learn"
   ]
  },
  {
   "cell_type": "markdown",
   "id": "34297340-5639-40db-88fc-edb06419aa55",
   "metadata": {},
   "source": [
    "|Data Science Tools |\n",
    "|:------------------ |\n",
    "|Jupyter Notebook |\n",
    "|Google Collab |\n",
    "|VS Code |\n",
    "|IBM Watson Studio |\n",
    "|Pycharm |\n",
    "|Spyder |"
   ]
  },
  {
   "cell_type": "markdown",
   "id": "f296fe51-0f18-4745-85ff-902e7b11d64c",
   "metadata": {},
   "source": [
    "### Below are a few examples of evaluating arithmetic expressions in Python"
   ]
  },
  {
   "cell_type": "code",
   "execution_count": 4,
   "id": "7b237b79-a068-4825-bcbf-6629ca2ce3a3",
   "metadata": {},
   "outputs": [
    {
     "data": {
      "text/plain": [
       "17"
      ]
     },
     "execution_count": 4,
     "metadata": {},
     "output_type": "execute_result"
    }
   ],
   "source": [
    "# This a simple arithmetic expression to mutiply then add integers\n",
    "(3*4)+5"
   ]
  },
  {
   "cell_type": "code",
   "execution_count": 6,
   "id": "a7ebf11f-49d7-44af-9c88-3657eca0f88f",
   "metadata": {},
   "outputs": [
    {
     "name": "stdout",
     "output_type": "stream",
     "text": [
      "3.3333333333333335 hrs\n"
     ]
    }
   ],
   "source": [
    "# This will convert 200 minutes to hours by diving by 60\n",
    "print(200/60,'hrs')"
   ]
  },
  {
   "cell_type": "markdown",
   "id": "59360ed8-c070-4ce5-a3d3-54be93b226f1",
   "metadata": {},
   "source": [
    "## Author\n",
    "Umer Nusrat Javed"
   ]
  },
  {
   "cell_type": "code",
   "execution_count": null,
   "id": "85ed8b7f-6faf-4eeb-87c9-cc19b5d00b4f",
   "metadata": {},
   "outputs": [],
   "source": []
  }
 ],
 "metadata": {
  "kernelspec": {
   "display_name": "Python 3 (ipykernel)",
   "language": "python",
   "name": "python3"
  },
  "language_info": {
   "codemirror_mode": {
    "name": "ipython",
    "version": 3
   },
   "file_extension": ".py",
   "mimetype": "text/x-python",
   "name": "python",
   "nbconvert_exporter": "python",
   "pygments_lexer": "ipython3",
   "version": "3.9.13"
  }
 },
 "nbformat": 4,
 "nbformat_minor": 5
}
